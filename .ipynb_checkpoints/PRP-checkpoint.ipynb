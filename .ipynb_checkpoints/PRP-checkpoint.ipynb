{
 "cells": [
  {
   "cell_type": "markdown",
   "id": "eab73848-3296-47a2-b6e5-c6655d9c1738",
   "metadata": {},
   "source": [
    "# Imports"
   ]
  },
  {
   "cell_type": "code",
   "execution_count": 550,
   "id": "1fd9c241-346e-4edd-8139-1a8fcb8e4fed",
   "metadata": {},
   "outputs": [],
   "source": [
    "import numpy as np\n",
    "import pandas as pd\n",
    "from scipy import sparse\n",
    "import scipy.linalg as spla\n",
    "\n",
    "import multiprocessing\n",
    "from multiprocessing import process\n",
    "from multiprocessing import Pool \n",
    "\n",
    "import time\n",
    "import itertools\n",
    "import math\n",
    "\n",
    "import matplotlib.pyplot as plt\n",
    "import seaborn as sns"
   ]
  },
  {
   "cell_type": "markdown",
   "id": "cce3e6ff-f9f3-4883-83b0-c3f72ccba037",
   "metadata": {},
   "source": [
    "# Declarations"
   ]
  },
  {
   "cell_type": "code",
   "execution_count": 551,
   "id": "ba1b7e30-a1e3-4a72-9dca-afaacbe8d514",
   "metadata": {},
   "outputs": [
    {
     "name": "stdout",
     "output_type": "stream",
     "text": [
      "Shape of A: (1000, 840)\n",
      "Shape of B: (1000, 1) \n"
     ]
    }
   ],
   "source": [
    "random_seed = 42\n",
    "regression_matrix_rows = 1000\n",
    "regression_matrix_cols = 840\n",
    "density = 0.1\n",
    "\n",
    "# fix the random seed\n",
    "np.random.seed(random_seed)\n",
    "\n",
    "# get the matrices\n",
    "A = np.random.uniform(0, 1, size=(regression_matrix_rows, regression_matrix_cols))\n",
    "z = sparse.random(regression_matrix_cols, 1, density=0.01).toarray()\n",
    "w = np.random.uniform (0,  0.2, size=(regression_matrix_rows, 1))\n",
    "b = np.matmul(A, z) + w\n",
    "\n",
    "print(f\"Shape of A: {A.shape}\\nShape of B: {b.shape} \")"
   ]
  },
  {
   "cell_type": "markdown",
   "id": "41290edc-656d-4d7a-92b7-88f7f20d84f1",
   "metadata": {},
   "source": [
    "# Store Data to Compare"
   ]
  },
  {
   "cell_type": "code",
   "execution_count": 552,
   "id": "4ebccddb-8caf-4714-924f-a17ae13c5e8c",
   "metadata": {},
   "outputs": [],
   "source": [
    "df = pd.DataFrame(\n",
    "    columns=[\"Number of Stages\", \"Number of Agents\", \"R\", \"Time\"]\n",
    ")"
   ]
  },
  {
   "cell_type": "markdown",
   "id": "0e7bf660-ba9f-4646-86f0-8d569c399262",
   "metadata": {},
   "source": [
    "# Helper Functions"
   ]
  },
  {
   "cell_type": "code",
   "execution_count": 553,
   "id": "bb2c686d-6521-4b49-8d34-7b7f5fee9d70",
   "metadata": {},
   "outputs": [],
   "source": [
    "def subproblem(A, b):\n",
    "    x = np.matmul((np.linalg.pinv(A)), b)\n",
    "    r = b - np.matmul(A, x)\n",
    "    \n",
    "    return (x, r)\n",
    "\n",
    "\n",
    "def processed_wrapped_parameters(args):\n",
    "    return subproblem(*args)\n",
    "\n",
    "\n",
    "def update_x_and_R(x, ret):\n",
    "    sm = sum([tup[1] for tup in ret])\n",
    "    R = [sm] * len(ret)\n",
    "    \n",
    "    new_x = []\n",
    "    for i, j in zip(x, ret):\n",
    "        if type(i) == int:\n",
    "            new_x.append(j[0])\n",
    "        else:\n",
    "            new_x.append(i + j[0])\n",
    "            \n",
    "    return new_x, R\n",
    "\n",
    "\n",
    "def formulate_x(x):\n",
    "    new_x = []\n",
    "    \n",
    "    for element in x:\n",
    "        new_x.append(element.tolist())\n",
    "        \n",
    "    flattened = list(itertools.chain.from_iterable(new_x))\n",
    "    \n",
    "    return list(itertools.chain.from_iterable(flattened))\n",
    "\n",
    "\n",
    "def calculate_squared_distance(r):\n",
    "    r = list(itertools.chain.from_iterable(r))\n",
    "    \n",
    "    return math.sqrt(sum([i*i for i in r]))"
   ]
  },
  {
   "cell_type": "markdown",
   "id": "ee366f8b-b9af-47ed-b6bb-98d1af2b6c54",
   "metadata": {},
   "source": [
    "# Implement PRP"
   ]
  },
  {
   "cell_type": "code",
   "execution_count": 554,
   "id": "c5cdd2b5-49c5-4266-a5ca-954ba8c4c85e",
   "metadata": {},
   "outputs": [],
   "source": [
    "def PRP(A, b, p, k):\n",
    "    A = np.split(A, p, axis=1)\n",
    "    b = [b/p for i in range(p)]\n",
    "    x = [0] * p\n",
    "    w = 1/p\n",
    "    R = [i for i in b]\n",
    "    \n",
    "    for stage in range(1, k+1):\n",
    "        new_R = [i*w for i in R]\n",
    "        \n",
    "        # multiprocessing part\n",
    "        parameters_list = [[i, j] for i, j in zip(A, new_R)]\n",
    "        pool = Pool(p)\n",
    "        ret = pool.map(processed_wrapped_parameters, parameters_list)\n",
    "        pool.close()\n",
    "        pool.join()\n",
    "        \n",
    "        x, R = update_x_and_R(x, ret)\n",
    "        \n",
    "    x = formulate_x(x)\n",
    "    \n",
    "    return x, sum(R)"
   ]
  },
  {
   "cell_type": "code",
   "execution_count": 555,
   "id": "54e2b168-96b7-4ab3-9dae-39c534afb98e",
   "metadata": {},
   "outputs": [],
   "source": [
    "p = [2, 3, 4, 5, 6, 7, 8]\n",
    "k = [5, 10, 15, 20, 25, 30, 35, 40, 45, 50]\n",
    "\n",
    "for pools in p:\n",
    "    for stages in k:\n",
    "        start = time.time()\n",
    "        x, r = PRP(A, b, pools, stages)\n",
    "        end = time.time()\n",
    "        \n",
    "        df.loc[len(df)] = [stages, pools, calculate_squared_distance(r), end-start]"
   ]
  },
  {
   "cell_type": "code",
   "execution_count": 556,
   "id": "c5ddbc51-504a-41a2-959d-ef241cc6d53c",
   "metadata": {},
   "outputs": [
    {
     "data": {
      "text/html": [
       "<div>\n",
       "<style scoped>\n",
       "    .dataframe tbody tr th:only-of-type {\n",
       "        vertical-align: middle;\n",
       "    }\n",
       "\n",
       "    .dataframe tbody tr th {\n",
       "        vertical-align: top;\n",
       "    }\n",
       "\n",
       "    .dataframe thead th {\n",
       "        text-align: right;\n",
       "    }\n",
       "</style>\n",
       "<table border=\"1\" class=\"dataframe\">\n",
       "  <thead>\n",
       "    <tr style=\"text-align: right;\">\n",
       "      <th></th>\n",
       "      <th>Number of Stages</th>\n",
       "      <th>Number of Agents</th>\n",
       "      <th>R</th>\n",
       "      <th>Time</th>\n",
       "    </tr>\n",
       "  </thead>\n",
       "  <tbody>\n",
       "    <tr>\n",
       "      <th>0</th>\n",
       "      <td>5.0</td>\n",
       "      <td>2.0</td>\n",
       "      <td>2.401275</td>\n",
       "      <td>0.983791</td>\n",
       "    </tr>\n",
       "    <tr>\n",
       "      <th>1</th>\n",
       "      <td>10.0</td>\n",
       "      <td>2.0</td>\n",
       "      <td>1.628377</td>\n",
       "      <td>1.859581</td>\n",
       "    </tr>\n",
       "    <tr>\n",
       "      <th>2</th>\n",
       "      <td>15.0</td>\n",
       "      <td>2.0</td>\n",
       "      <td>1.358463</td>\n",
       "      <td>2.766380</td>\n",
       "    </tr>\n",
       "    <tr>\n",
       "      <th>3</th>\n",
       "      <td>20.0</td>\n",
       "      <td>2.0</td>\n",
       "      <td>1.223577</td>\n",
       "      <td>3.807568</td>\n",
       "    </tr>\n",
       "    <tr>\n",
       "      <th>4</th>\n",
       "      <td>25.0</td>\n",
       "      <td>2.0</td>\n",
       "      <td>1.144652</td>\n",
       "      <td>4.473567</td>\n",
       "    </tr>\n",
       "    <tr>\n",
       "      <th>...</th>\n",
       "      <td>...</td>\n",
       "      <td>...</td>\n",
       "      <td>...</td>\n",
       "      <td>...</td>\n",
       "    </tr>\n",
       "    <tr>\n",
       "      <th>65</th>\n",
       "      <td>30.0</td>\n",
       "      <td>8.0</td>\n",
       "      <td>2.370344</td>\n",
       "      <td>32.581832</td>\n",
       "    </tr>\n",
       "    <tr>\n",
       "      <th>66</th>\n",
       "      <td>35.0</td>\n",
       "      <td>8.0</td>\n",
       "      <td>2.186438</td>\n",
       "      <td>30.833900</td>\n",
       "    </tr>\n",
       "    <tr>\n",
       "      <th>67</th>\n",
       "      <td>40.0</td>\n",
       "      <td>8.0</td>\n",
       "      <td>2.047352</td>\n",
       "      <td>34.190492</td>\n",
       "    </tr>\n",
       "    <tr>\n",
       "      <th>68</th>\n",
       "      <td>45.0</td>\n",
       "      <td>8.0</td>\n",
       "      <td>1.938930</td>\n",
       "      <td>46.048877</td>\n",
       "    </tr>\n",
       "    <tr>\n",
       "      <th>69</th>\n",
       "      <td>50.0</td>\n",
       "      <td>8.0</td>\n",
       "      <td>1.852316</td>\n",
       "      <td>45.371058</td>\n",
       "    </tr>\n",
       "  </tbody>\n",
       "</table>\n",
       "<p>70 rows × 4 columns</p>\n",
       "</div>"
      ],
      "text/plain": [
       "    Number of Stages  Number of Agents         R       Time\n",
       "0                5.0               2.0  2.401275   0.983791\n",
       "1               10.0               2.0  1.628377   1.859581\n",
       "2               15.0               2.0  1.358463   2.766380\n",
       "3               20.0               2.0  1.223577   3.807568\n",
       "4               25.0               2.0  1.144652   4.473567\n",
       "..               ...               ...       ...        ...\n",
       "65              30.0               8.0  2.370344  32.581832\n",
       "66              35.0               8.0  2.186438  30.833900\n",
       "67              40.0               8.0  2.047352  34.190492\n",
       "68              45.0               8.0  1.938930  46.048877\n",
       "69              50.0               8.0  1.852316  45.371058\n",
       "\n",
       "[70 rows x 4 columns]"
      ]
     },
     "execution_count": 556,
     "metadata": {},
     "output_type": "execute_result"
    }
   ],
   "source": [
    "df"
   ]
  },
  {
   "cell_type": "markdown",
   "id": "1ae8692f-c92a-4fef-95f8-19171eede240",
   "metadata": {},
   "source": [
    "# Generate Graphs"
   ]
  },
  {
   "cell_type": "code",
   "execution_count": 557,
   "id": "9095ef8d-15e0-4e2c-aaa0-a0c0b865d9d4",
   "metadata": {},
   "outputs": [
    {
     "data": {
      "image/png": "[encoded data removed]",
      "text/plain": [
       "<Figure size 720x432 with 1 Axes>"
      ]
     },
     "metadata": {
      "needs_background": "light"
     },
     "output_type": "display_data"
    }
   ],
   "source": [
    "temp = df[[\"Number of Agents\", \"Time\"]].groupby([\"Number of Agents\"]).mean()\n",
    "temp['Number of Agents'] = temp.index\n",
    "\n",
    "plt.figure(figsize=(10, 6))\n",
    "plt.xlabel(\"Number of Agents\", fontsize=18)\n",
    "plt.ylabel(\"Time\", fontsize=18)\n",
    "plt.plot(temp[\"Number of Agents\"], temp[\"Time\"], color='r')\n",
    "plt.show()"
   ]
  },
  {
   "cell_type": "code",
   "execution_count": 559,
   "id": "ea3c3632-ffb3-4852-be9f-f09926dbff08",
   "metadata": {},
   "outputs": [
    {
     "data": {
      "image/png": "[encoded data removed]",
      "text/plain": [
       "<Figure size 720x432 with 1 Axes>"
      ]
     },
     "metadata": {
      "needs_background": "light"
     },
     "output_type": "display_data"
    }
   ],
   "source": [
    "plt.figure(figsize=(10, 6))\n",
    "plt.xlabel(\"Number of Stages\", fontsize=18)\n",
    "plt.ylabel(\"R\", fontsize=18)\n",
    "ax = sns.lineplot(x=df[\"Number of Stages\"], y=df[\"R\"], hue=df[\"Number of Agents\"])\n",
    "ax.legend(loc='center left', bbox_to_anchor=(1, 0.5))\n",
    "plt.show()"
   ]
  },
  {
   "cell_type": "code",
   "execution_count": null,
   "id": "f8f125ce-542d-499a-8aef-cbc1ccb681a7",
   "metadata": {},
   "outputs": [],
   "source": []
  }
 ],
 "metadata": {
  "kernelspec": {
   "display_name": "Python 3",
   "language": "python",
   "name": "python3"
  },
  "language_info": {
   "codemirror_mode": {
    "name": "ipython",
    "version": 3
   },
   "file_extension": ".py",
   "mimetype": "text/x-python",
   "name": "python",
   "nbconvert_exporter": "python",
   "pygments_lexer": "ipython3",
   "version": "3.9.12"
  }
 },
 "nbformat": 4,
 "nbformat_minor": 5
}
